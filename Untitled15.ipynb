{
 "cells": [
  {
   "cell_type": "code",
   "execution_count": 36,
   "id": "1a39ccf5",
   "metadata": {},
   "outputs": [
    {
     "name": "stdout",
     "output_type": "stream",
     "text": [
      "(2, 3, 'a', ['a', 'b', 'c'], 'c')\n"
     ]
    }
   ],
   "source": []
  },
  {
   "cell_type": "code",
   "execution_count": null,
   "id": "9422aa79",
   "metadata": {},
   "outputs": [],
   "source": []
  },
  {
   "cell_type": "markdown",
   "id": "e2839aca",
   "metadata": {},
   "source": [
    "a=[1,2,3,['a','b','c']]\n",
    "len(a)\n",
    "print((a[1],a[2],a[3][0],a[3],a[3][2]))\n",
    "a=[1,2,3,['a','b','c']]\n",
    "len(a)\n",
    "print(a[1])\n",
    "print(a[3])\n",
    "print(a[])"
   ]
  },
  {
   "cell_type": "code",
   "execution_count": null,
   "id": "188c8af1",
   "metadata": {},
   "outputs": [],
   "source": []
  }
 ],
 "metadata": {
  "kernelspec": {
   "display_name": "Python 3 (ipykernel)",
   "language": "python",
   "name": "python3"
  },
  "language_info": {
   "codemirror_mode": {
    "name": "ipython",
    "version": 3
   },
   "file_extension": ".py",
   "mimetype": "text/x-python",
   "name": "python",
   "nbconvert_exporter": "python",
   "pygments_lexer": "ipython3",
   "version": "3.10.6"
  }
 },
 "nbformat": 4,
 "nbformat_minor": 5
}
