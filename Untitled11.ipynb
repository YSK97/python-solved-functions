{
 "cells": [
  {
   "cell_type": "code",
   "execution_count": 3,
   "id": "8a7a53cf",
   "metadata": {},
   "outputs": [
    {
     "name": "stdout",
     "output_type": "stream",
     "text": [
      "enter t1 value:0.2345\n",
      "enter g1 value:0.5678\n",
      "enter t2 value:1.2345\n",
      "enter g1 value:1.6789\n",
      "the distance 7649.408610800928\n"
     ]
    }
   ],
   "source": [
    "#program12\n",
    "t1=float(input(\"enter t1 value:\"))\n",
    "g1=float(input(\"enter g1 value:\"))\n",
    "t2=float(input(\"enter t2 value:\"))\n",
    "g2=float(input(\"enter g1 value:\"))\n",
    "import math\n",
    "term1=math.sin(t1)*math.sin(t2)\n",
    "term2=math.cos(t1)*math.cos(t2)*math.cos(g1-g2)\n",
    "distance=6371.01*math.acos(term1+term2)\n",
    "print(\"the distance\",distance)"
   ]
  },
  {
   "cell_type": "code",
   "execution_count": 4,
   "id": "13650401",
   "metadata": {},
   "outputs": [
    {
     "name": "stdout",
     "output_type": "stream",
     "text": [
      "enter intial value:5.5\n",
      "enter distance:2.5\n",
      "final speed of object: 8.902246907382429\n"
     ]
    }
   ],
   "source": [
    "#program19\n",
    "vel=float(input(\"enter intial value:\"))\n",
    "dis=float(input(\"enter distance:\"))\n",
    "acc=9.8\n",
    "tv=((vel**2)+(2*acc*dis))**0.5\n",
    "print(\"final speed of object:\",tv)"
   ]
  },
  {
   "cell_type": "code",
   "execution_count": null,
   "id": "4e3e1775",
   "metadata": {},
   "outputs": [],
   "source": []
  }
 ],
 "metadata": {
  "kernelspec": {
   "display_name": "Python 3 (ipykernel)",
   "language": "python",
   "name": "python3"
  },
  "language_info": {
   "codemirror_mode": {
    "name": "ipython",
    "version": 3
   },
   "file_extension": ".py",
   "mimetype": "text/x-python",
   "name": "python",
   "nbconvert_exporter": "python",
   "pygments_lexer": "ipython3",
   "version": "3.10.6"
  }
 },
 "nbformat": 4,
 "nbformat_minor": 5
}
