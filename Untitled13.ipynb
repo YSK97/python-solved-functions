{
 "cells": [
  {
   "cell_type": "code",
   "execution_count": 11,
   "id": "c79d170f",
   "metadata": {},
   "outputs": [
    {
     "ename": "SyntaxError",
     "evalue": "invalid syntax (2945433753.py, line 7)",
     "output_type": "error",
     "traceback": [
      "\u001b[1;36m  Input \u001b[1;32mIn [11]\u001b[1;36m\u001b[0m\n\u001b[1;33m    elif units>200 and units<300+:\u001b[0m\n\u001b[1;37m                                 ^\u001b[0m\n\u001b[1;31mSyntaxError\u001b[0m\u001b[1;31m:\u001b[0m invalid syntax\n"
     ]
    }
   ],
   "source": [
    "#1 units & charge\n",
    "units=int(input(\"total charge\"))\n",
    "if units<=100:\n",
    "    print(\"o is total charge\")\n",
    "elif units>100 and units<=200:\n",
    "    print(\"5 is total charge\")\n",
    "elif units>200 and units<300:\n",
    "    print(\"10 total charge\")\n"
   ]
  },
  {
   "cell_type": "code",
   "execution_count": 19,
   "id": "03b396e1",
   "metadata": {},
   "outputs": [
    {
     "name": "stdout",
     "output_type": "stream",
     "text": [
      "enter your salary:1000\n",
      "enter year of experience:3\n",
      "bonus: 50.0\n"
     ]
    }
   ],
   "source": [
    "#2service bonus\n",
    "salary=int(input(\"enter your salary:\"))\n",
    "service=int(input(\"enter year of experience:\"))\n",
    "if service>10:\n",
    "    bonus=(10/100)*salary\n",
    "if service>=6 and service<=10:\n",
    "    bonus=(8/100)*salary\n",
    "if service<6:\n",
    "    bonus=(5/100)*salary\n",
    "    print(\"bonus:\",bonus)"
   ]
  },
  {
   "cell_type": "code",
   "execution_count": null,
   "id": "277612f5",
   "metadata": {},
   "outputs": [],
   "source": [
    "#3 library charge\n",
    "a=int(input(\"no of days:\"))\n",
    "if days>=5:\n",
    "    print(\"2/day\")\n",
    "elif days<6 and days>=10:\n",
    "    print(\"3/day\")\n",
    "elif days<11 and days>=15:\n",
    "    print(\"4/day\")\n",
    "elif days>=15:\n",
    "    print(\"5/day\")"
   ]
  },
  {
   "cell_type": "code",
   "execution_count": null,
   "id": "ee8a8da2",
   "metadata": {},
   "outputs": [],
   "source": []
  }
 ],
 "metadata": {
  "kernelspec": {
   "display_name": "Python 3 (ipykernel)",
   "language": "python",
   "name": "python3"
  },
  "language_info": {
   "codemirror_mode": {
    "name": "ipython",
    "version": 3
   },
   "file_extension": ".py",
   "mimetype": "text/x-python",
   "name": "python",
   "nbconvert_exporter": "python",
   "pygments_lexer": "ipython3",
   "version": "3.10.6"
  }
 },
 "nbformat": 4,
 "nbformat_minor": 5
}
