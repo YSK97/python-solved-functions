{
 "cells": [
  {
   "cell_type": "code",
   "execution_count": null,
   "id": "35bd9c32",
   "metadata": {},
   "outputs": [],
   "source": []
  },
  {
   "cell_type": "code",
   "execution_count": null,
   "id": "15603ccc",
   "metadata": {},
   "outputs": [],
   "source": [
    "s=str(input(\"enter any string:\"))\n",
    "a=len(s)\n",
    "b=a-1\n",
    "for in range(0,a):\n",
    "    print(s[b],end=' ')\n",
    "    b=b-1\n",
    "    if b<0:\n",
    "        break"
   ]
  },
  {
   "cell_type": "code",
   "execution_count": null,
   "id": "4779bbc2",
   "metadata": {},
   "outputs": [],
   "source": []
  },
  {
   "cell_type": "code",
   "execution_count": null,
   "id": "3d3d48c8",
   "metadata": {},
   "outputs": [],
   "source": []
  }
 ],
 "metadata": {
  "kernelspec": {
   "display_name": "Python 3 (ipykernel)",
   "language": "python",
   "name": "python3"
  },
  "language_info": {
   "codemirror_mode": {
    "name": "ipython",
    "version": 3
   },
   "file_extension": ".py",
   "mimetype": "text/x-python",
   "name": "python",
   "nbconvert_exporter": "python",
   "pygments_lexer": "ipython3",
   "version": "3.10.6"
  }
 },
 "nbformat": 4,
 "nbformat_minor": 5
}
