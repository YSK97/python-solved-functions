{
 "cells": [
  {
   "cell_type": "code",
   "execution_count": null,
   "id": "751ec701",
   "metadata": {},
   "outputs": [],
   "source": [
    "#list problems\n",
    "#1:sort list\n",
    "n=int(input('enter first number'))\n",
    "mylist=list()\n",
    "while n!=0:\n",
    "    mylist.append(n)\n",
    "n=int(input('enter next number'))\n",
    "print(mylist)\n",
    "mylist.sort()\n",
    "print(mylist)"
   ]
  },
  {
   "cell_type": "code",
   "execution_count": null,
   "id": "282fad1d",
   "metadata": {},
   "outputs": [],
   "source": [
    "#2:reverse order\n",
    "n=int(input('enter first number'))\n",
    "mylist=list()\n",
    "while n!=0:\n",
    "    mylist.append(n)\n",
    "n=int(input('enter next number'))\n",
    "print(mylist)\n",
    "mylist.reverse()\n",
    "print(mylist)"
   ]
  },
  {
   "cell_type": "code",
   "execution_count": null,
   "id": "250d8a5e",
   "metadata": {},
   "outputs": [],
   "source": [
    "#3:avoiding duplicates\n",
    "sam_list = [first,second,first,third,second] \n",
    "print (\"The list is: \" + str(sam_list)) \n",
    "\n",
    "result = [] \n",
    "[result.append(x) for x in sam_list if x not in result] \n",
    "\n",
    "print (\"The list after removing duplicates: \" + str(result))"
   ]
  },
  {
   "cell_type": "code",
   "execution_count": null,
   "id": "0ce4a9d3",
   "metadata": {},
   "outputs": [],
   "source": [
    "#4;Negative Zero Positive \n",
    "# Python program to print negative Numbers in a List\n",
    "\n",
    "# list of numbers\n",
    "list1 = [11, -21, 0, 45, 66, -93]\n",
    "res=[]\n",
    "list2=list(map(str,list1))\n",
    "for i in range(0,len(list2)):\n",
    "\tif(list2[i].startswith(\"-0+\")):\n",
    "\t\tres.append(str(list1[i]))\n",
    "res=\" \".join(res)\n",
    "print(res)"
   ]
  },
  {
   "cell_type": "code",
   "execution_count": null,
   "id": "656d7b1d",
   "metadata": {},
   "outputs": [],
   "source": []
  }
 ],
 "metadata": {
  "kernelspec": {
   "display_name": "Python 3 (ipykernel)",
   "language": "python",
   "name": "python3"
  },
  "language_info": {
   "codemirror_mode": {
    "name": "ipython",
    "version": 3
   },
   "file_extension": ".py",
   "mimetype": "text/x-python",
   "name": "python",
   "nbconvert_exporter": "python",
   "pygments_lexer": "ipython3",
   "version": "3.10.6"
  }
 },
 "nbformat": 4,
 "nbformat_minor": 5
}
