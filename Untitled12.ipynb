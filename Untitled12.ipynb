{
 "cells": [
  {
   "cell_type": "code",
   "execution_count": null,
   "id": "be2ffc18",
   "metadata": {},
   "outputs": [],
   "source": [
    "#1 units & charge\n",
    "units=int(input(\"total charge\"))\n",
    "if units<=100:\n",
    "    print(\"o is total charge\")\n",
    "elif units>100 and units<=200:\n",
    "    print(\"5 is total charge\")\n",
    "elif units>200 and units<300:\n",
    "    print(\"10 total charge\")\n"
   ]
  },
  {
   "cell_type": "code",
   "execution_count": null,
   "id": "3841d628",
   "metadata": {},
   "outputs": [],
   "source": [
    "#2service bonus\n",
    "salary=int(input(\"enter your salary:\"))\n",
    "sevice=int9input(\"enter year of experience:\")\n",
    "if service>10\n",
    "    bonus=(10/100)*salary\n",
    "if sevice>=6 and srvice<=10:\n",
    "    bonus=(8/100)*salary\n",
    "if service<6:\n",
    "    bonus=(5/100)*salary\n",
    "    print(\"bonus:\",bonus)"
   ]
  },
  {
   "cell_type": "code",
   "execution_count": null,
   "id": "41df7abd",
   "metadata": {},
   "outputs": [],
   "source": [
    "#3 library charge\n",
    "a=int(input(\"library charge:\"))\n",
    "if days 5:\n",
    "    print(\"2/day\")\n",
    "elif days 6 to 10:\n",
    "    print(\"3/day\")\n",
    "elif days 11 to 15:\n",
    "    print(\"4/day\")\n",
    "elif days 15:\n",
    "    print(\"5/day\")"
   ]
  },
  {
   "cell_type": "code",
   "execution_count": null,
   "id": "c79f0ac1",
   "metadata": {},
   "outputs": [],
   "source": []
  }
 ],
 "metadata": {
  "kernelspec": {
   "display_name": "Python 3 (ipykernel)",
   "language": "python",
   "name": "python3"
  },
  "language_info": {
   "codemirror_mode": {
    "name": "ipython",
    "version": 3
   },
   "file_extension": ".py",
   "mimetype": "text/x-python",
   "name": "python",
   "nbconvert_exporter": "python",
   "pygments_lexer": "ipython3",
   "version": "3.10.6"
  }
 },
 "nbformat": 4,
 "nbformat_minor": 5
}
