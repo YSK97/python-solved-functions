{
 "cells": [
  {
   "cell_type": "code",
   "execution_count": null,
   "id": "2f9ab786",
   "metadata": {},
   "outputs": [],
   "source": [
    "#list problems\n",
    "#1:sort list\n",
    "n=int(input('enter first number'))\n",
    "mylist=list()\n",
    "while n!=0:\n",
    "    mylist.append(n)\n",
    "n=int(input('enter next number'))\n",
    "print(mylist)\n",
    "mylist.sort()\n",
    "print(mylist)"
   ]
  },
  {
   "cell_type": "code",
   "execution_count": null,
   "id": "4b1615c2",
   "metadata": {},
   "outputs": [
    {
     "name": "stdout",
     "output_type": "stream",
     "text": [
      "enter first number10\n"
     ]
    }
   ],
   "source": [
    "#2:reverse order\n",
    "n=int(input('enter first number'))\n",
    "mylist=list()\n",
    "while n!=0:\n",
    "    mylist.append(n)\n",
    "n=int(input('enter next number'))\n",
    "print(mylist)\n",
    "mylist.reverse()\n",
    "print(mylist)"
   ]
  },
  {
   "cell_type": "code",
   "execution_count": 1,
   "id": "639874f2",
   "metadata": {},
   "outputs": [
    {
     "ename": "NameError",
     "evalue": "name 'first' is not defined",
     "output_type": "error",
     "traceback": [
      "\u001b[1;31m---------------------------------------------------------------------------\u001b[0m",
      "\u001b[1;31mNameError\u001b[0m                                 Traceback (most recent call last)",
      "Input \u001b[1;32mIn [1]\u001b[0m, in \u001b[0;36m<cell line: 2>\u001b[1;34m()\u001b[0m\n\u001b[0;32m      1\u001b[0m \u001b[38;5;66;03m#3:avoiding duplicates\u001b[39;00m\n\u001b[1;32m----> 2\u001b[0m sam_list \u001b[38;5;241m=\u001b[39m [\u001b[43mfirst\u001b[49m,second,first,third,second] \n\u001b[0;32m      3\u001b[0m \u001b[38;5;28mprint\u001b[39m (\u001b[38;5;124m\"\u001b[39m\u001b[38;5;124mThe list is: \u001b[39m\u001b[38;5;124m\"\u001b[39m \u001b[38;5;241m+\u001b[39m \u001b[38;5;28mstr\u001b[39m(sam_list)) \n\u001b[0;32m      5\u001b[0m result \u001b[38;5;241m=\u001b[39m [] \n",
      "\u001b[1;31mNameError\u001b[0m: name 'first' is not defined"
     ]
    }
   ],
   "source": [
    "#3:avoiding duplicates\n",
    "sam_list = [first,second,first,third,second] \n",
    "print (\"The list is: \" + str(sam_list)) \n",
    "\n",
    "result = [] \n",
    "[result.append(x) for x in sam_list if x not in result] \n",
    "\n",
    "print (\"The list after removing duplicates: \" + str(result))"
   ]
  },
  {
   "cell_type": "code",
   "execution_count": null,
   "id": "38931cc5",
   "metadata": {},
   "outputs": [],
   "source": [
    "#4;Negative Zero Positive \n",
    "# Python program to print negative Numbers in a List\n",
    "\n",
    "# list of numbers\n",
    "list1 = [11, -21, 0, 45, 66, -93]\n",
    "res=[]\n",
    "list2=list(map(str,list1))\n",
    "for i in range(0,len(list2)):\n",
    "\tif(list2[i].startswith(\"-0+\")):\n",
    "\t\tres.append(str(list1[i]))\n",
    "res=\" \".join(res)\n",
    "print(res)"
   ]
  },
  {
   "cell_type": "code",
   "execution_count": null,
   "id": "1e2e95cf",
   "metadata": {},
   "outputs": [],
   "source": []
  }
 ],
 "metadata": {
  "kernelspec": {
   "display_name": "Python 3 (ipykernel)",
   "language": "python",
   "name": "python3"
  },
  "language_info": {
   "codemirror_mode": {
    "name": "ipython",
    "version": 3
   },
   "file_extension": ".py",
   "mimetype": "text/x-python",
   "name": "python",
   "nbconvert_exporter": "python",
   "pygments_lexer": "ipython3",
   "version": "3.10.6"
  }
 },
 "nbformat": 4,
 "nbformat_minor": 5
}
